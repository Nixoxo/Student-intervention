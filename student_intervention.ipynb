{
 "cells": [
  {
   "cell_type": "markdown",
   "metadata": {
    "collapsed": true
   },
   "source": [
    "# Project 2: Supervised Learning\n",
    "### Building a Student Intervention System"
   ]
  },
  {
   "cell_type": "markdown",
   "metadata": {},
   "source": [
    "## 1. Classification vs Regression\n",
    "\n",
    "Your goal is to identify students who might need early intervention - which type of supervised machine learning problem is this, classification or regression? Why?\n",
    "\n",
    "It is a classification problem. We have two group of students. The first group passed and the second group did not pass. Since we have this two classes it is considered as a classification problem."
   ]
  },
  {
   "cell_type": "markdown",
   "metadata": {},
   "source": [
    "## 2. Exploring the Data\n",
    "\n",
    "Let's go ahead and read in the student dataset first.\n",
    "\n",
    "_To execute a code cell, click inside it and press **Shift+Enter**._"
   ]
  },
  {
   "cell_type": "code",
   "execution_count": 2,
   "metadata": {
    "collapsed": true
   },
   "outputs": [],
   "source": [
    "# Import libraries\n",
    "import numpy as np\n",
    "import pandas as pd"
   ]
  },
  {
   "cell_type": "code",
   "execution_count": 3,
   "metadata": {
    "collapsed": false
   },
   "outputs": [
    {
     "name": "stdout",
     "output_type": "stream",
     "text": [
      "Student data read successfully!\n",
      "    school sex  age address famsize Pstatus  Medu  Fedu      Mjob      Fjob  \\\n",
      "0       GP   F   18       U     GT3       A     4     4   at_home   teacher   \n",
      "1       GP   F   17       U     GT3       T     1     1   at_home     other   \n",
      "2       GP   F   15       U     LE3       T     1     1   at_home     other   \n",
      "3       GP   F   15       U     GT3       T     4     2    health  services   \n",
      "4       GP   F   16       U     GT3       T     3     3     other     other   \n",
      "5       GP   M   16       U     LE3       T     4     3  services     other   \n",
      "6       GP   M   16       U     LE3       T     2     2     other     other   \n",
      "7       GP   F   17       U     GT3       A     4     4     other   teacher   \n",
      "8       GP   M   15       U     LE3       A     3     2  services     other   \n",
      "9       GP   M   15       U     GT3       T     3     4     other     other   \n",
      "10      GP   F   15       U     GT3       T     4     4   teacher    health   \n",
      "11      GP   F   15       U     GT3       T     2     1  services     other   \n",
      "12      GP   M   15       U     LE3       T     4     4    health  services   \n",
      "13      GP   M   15       U     GT3       T     4     3   teacher     other   \n",
      "14      GP   M   15       U     GT3       A     2     2     other     other   \n",
      "15      GP   F   16       U     GT3       T     4     4    health     other   \n",
      "16      GP   F   16       U     GT3       T     4     4  services  services   \n",
      "17      GP   F   16       U     GT3       T     3     3     other     other   \n",
      "18      GP   M   17       U     GT3       T     3     2  services  services   \n",
      "19      GP   M   16       U     LE3       T     4     3    health     other   \n",
      "20      GP   M   15       U     GT3       T     4     3   teacher     other   \n",
      "21      GP   M   15       U     GT3       T     4     4    health    health   \n",
      "22      GP   M   16       U     LE3       T     4     2   teacher     other   \n",
      "23      GP   M   16       U     LE3       T     2     2     other     other   \n",
      "24      GP   F   15       R     GT3       T     2     4  services    health   \n",
      "25      GP   F   16       U     GT3       T     2     2  services  services   \n",
      "26      GP   M   15       U     GT3       T     2     2     other     other   \n",
      "27      GP   M   15       U     GT3       T     4     2    health  services   \n",
      "28      GP   M   16       U     LE3       A     3     4  services     other   \n",
      "29      GP   M   16       U     GT3       T     4     4   teacher   teacher   \n",
      "..     ...  ..  ...     ...     ...     ...   ...   ...       ...       ...   \n",
      "365     MS   M   18       R     GT3       T     1     3   at_home     other   \n",
      "366     MS   M   18       U     LE3       T     4     4   teacher  services   \n",
      "367     MS   F   17       R     GT3       T     1     1     other  services   \n",
      "368     MS   F   18       U     GT3       T     2     3   at_home  services   \n",
      "369     MS   F   18       R     GT3       T     4     4     other   teacher   \n",
      "370     MS   F   19       U     LE3       T     3     2  services  services   \n",
      "371     MS   M   18       R     LE3       T     1     2   at_home  services   \n",
      "372     MS   F   17       U     GT3       T     2     2     other   at_home   \n",
      "373     MS   F   17       R     GT3       T     1     2     other     other   \n",
      "374     MS   F   18       R     LE3       T     4     4     other     other   \n",
      "375     MS   F   18       R     GT3       T     1     1     other     other   \n",
      "376     MS   F   20       U     GT3       T     4     2    health     other   \n",
      "377     MS   F   18       R     LE3       T     4     4   teacher  services   \n",
      "378     MS   F   18       U     GT3       T     3     3     other     other   \n",
      "379     MS   F   17       R     GT3       T     3     1   at_home     other   \n",
      "380     MS   M   18       U     GT3       T     4     4   teacher   teacher   \n",
      "381     MS   M   18       R     GT3       T     2     1     other     other   \n",
      "382     MS   M   17       U     GT3       T     2     3     other  services   \n",
      "383     MS   M   19       R     GT3       T     1     1     other  services   \n",
      "384     MS   M   18       R     GT3       T     4     2     other     other   \n",
      "385     MS   F   18       R     GT3       T     2     2   at_home     other   \n",
      "386     MS   F   18       R     GT3       T     4     4   teacher   at_home   \n",
      "387     MS   F   19       R     GT3       T     2     3  services     other   \n",
      "388     MS   F   18       U     LE3       T     3     1   teacher  services   \n",
      "389     MS   F   18       U     GT3       T     1     1     other     other   \n",
      "390     MS   M   20       U     LE3       A     2     2  services  services   \n",
      "391     MS   M   17       U     LE3       T     3     1  services  services   \n",
      "392     MS   M   21       R     GT3       T     1     1     other     other   \n",
      "393     MS   M   18       R     LE3       T     3     2  services     other   \n",
      "394     MS   M   19       U     LE3       T     1     1     other   at_home   \n",
      "\n",
      "     ...   internet romantic  famrel  freetime  goout Dalc Walc health  \\\n",
      "0    ...         no       no       4         3      4    1    1      3   \n",
      "1    ...        yes       no       5         3      3    1    1      3   \n",
      "2    ...        yes       no       4         3      2    2    3      3   \n",
      "3    ...        yes      yes       3         2      2    1    1      5   \n",
      "4    ...         no       no       4         3      2    1    2      5   \n",
      "5    ...        yes       no       5         4      2    1    2      5   \n",
      "6    ...        yes       no       4         4      4    1    1      3   \n",
      "7    ...         no       no       4         1      4    1    1      1   \n",
      "8    ...        yes       no       4         2      2    1    1      1   \n",
      "9    ...        yes       no       5         5      1    1    1      5   \n",
      "10   ...        yes       no       3         3      3    1    2      2   \n",
      "11   ...        yes       no       5         2      2    1    1      4   \n",
      "12   ...        yes       no       4         3      3    1    3      5   \n",
      "13   ...        yes       no       5         4      3    1    2      3   \n",
      "14   ...        yes      yes       4         5      2    1    1      3   \n",
      "15   ...        yes       no       4         4      4    1    2      2   \n",
      "16   ...        yes       no       3         2      3    1    2      2   \n",
      "17   ...         no       no       5         3      2    1    1      4   \n",
      "18   ...        yes       no       5         5      5    2    4      5   \n",
      "19   ...        yes       no       3         1      3    1    3      5   \n",
      "20   ...        yes       no       4         4      1    1    1      1   \n",
      "21   ...        yes       no       5         4      2    1    1      5   \n",
      "22   ...        yes       no       4         5      1    1    3      5   \n",
      "23   ...        yes       no       5         4      4    2    4      5   \n",
      "24   ...        yes       no       4         3      2    1    1      5   \n",
      "25   ...        yes       no       1         2      2    1    3      5   \n",
      "26   ...        yes       no       4         2      2    1    2      5   \n",
      "27   ...        yes       no       2         2      4    2    4      1   \n",
      "28   ...        yes       no       5         3      3    1    1      5   \n",
      "29   ...        yes      yes       4         4      5    5    5      5   \n",
      "..   ...        ...      ...     ...       ...    ...  ...  ...    ...   \n",
      "365  ...         no       no       3         3      4    2    4      3   \n",
      "366  ...        yes      yes       4         2      2    2    2      5   \n",
      "367  ...        yes      yes       5         2      1    1    2      1   \n",
      "368  ...        yes      yes       5         2      3    1    2      4   \n",
      "369  ...        yes      yes       3         2      2    4    2      5   \n",
      "370  ...         no      yes       3         2      2    1    1      3   \n",
      "371  ...        yes      yes       4         3      3    2    3      3   \n",
      "372  ...         no      yes       3         4      3    1    1      3   \n",
      "373  ...        yes       no       3         5      5    1    3      1   \n",
      "374  ...        yes       no       5         4      4    1    1      1   \n",
      "375  ...        yes       no       4         3      2    1    2      4   \n",
      "376  ...        yes      yes       5         4      3    1    1      3   \n",
      "377  ...        yes       no       5         4      3    3    4      2   \n",
      "378  ...        yes      yes       4         1      3    1    2      1   \n",
      "379  ...        yes       no       4         5      4    2    3      1   \n",
      "380  ...        yes       no       3         2      4    1    4      2   \n",
      "381  ...        yes      yes       4         4      3    1    3      5   \n",
      "382  ...        yes       no       4         4      3    1    1      3   \n",
      "383  ...         no       no       4         3      2    1    3      5   \n",
      "384  ...         no       no       5         4      3    4    3      3   \n",
      "385  ...         no       no       5         3      3    1    3      4   \n",
      "386  ...        yes      yes       4         4      3    2    2      5   \n",
      "387  ...        yes       no       5         4      2    1    2      5   \n",
      "388  ...        yes       no       4         3      4    1    1      1   \n",
      "389  ...         no       no       1         1      1    1    1      5   \n",
      "390  ...         no       no       5         5      4    4    5      4   \n",
      "391  ...        yes       no       2         4      5    3    4      2   \n",
      "392  ...         no       no       5         5      3    3    3      3   \n",
      "393  ...        yes       no       4         4      1    3    4      5   \n",
      "394  ...        yes       no       3         2      3    3    3      5   \n",
      "\n",
      "    absences passed  \n",
      "0          6     no  \n",
      "1          4     no  \n",
      "2         10    yes  \n",
      "3          2    yes  \n",
      "4          4    yes  \n",
      "5         10    yes  \n",
      "6          0    yes  \n",
      "7          6     no  \n",
      "8          0    yes  \n",
      "9          0    yes  \n",
      "10         0     no  \n",
      "11         4    yes  \n",
      "12         2    yes  \n",
      "13         2    yes  \n",
      "14         0    yes  \n",
      "15         4    yes  \n",
      "16         6    yes  \n",
      "17         4    yes  \n",
      "18        16     no  \n",
      "19         4    yes  \n",
      "20         0    yes  \n",
      "21         0    yes  \n",
      "22         2    yes  \n",
      "23         0    yes  \n",
      "24         2     no  \n",
      "25        14     no  \n",
      "26         2    yes  \n",
      "27         4    yes  \n",
      "28         4    yes  \n",
      "29        16    yes  \n",
      "..       ...    ...  \n",
      "365        4    yes  \n",
      "366        0    yes  \n",
      "367        0     no  \n",
      "368        0    yes  \n",
      "369       10    yes  \n",
      "370        4     no  \n",
      "371        3    yes  \n",
      "372        8    yes  \n",
      "373       14     no  \n",
      "374        0    yes  \n",
      "375        2    yes  \n",
      "376        4    yes  \n",
      "377        4    yes  \n",
      "378        0    yes  \n",
      "379       17    yes  \n",
      "380        4    yes  \n",
      "381        5     no  \n",
      "382        2    yes  \n",
      "383        0     no  \n",
      "384       14     no  \n",
      "385        2    yes  \n",
      "386        7     no  \n",
      "387        0     no  \n",
      "388        0     no  \n",
      "389        0     no  \n",
      "390       11     no  \n",
      "391        3    yes  \n",
      "392        3     no  \n",
      "393        0    yes  \n",
      "394        5     no  \n",
      "\n",
      "[395 rows x 31 columns]\n"
     ]
    }
   ],
   "source": [
    "# Read student data\n",
    "student_data = pd.read_csv(\"student-data.csv\")\n",
    "print \"Student data read successfully!\"\n",
    "# Note: The last column 'passed' is the target/label, all other are feature columns\n",
    "print student_data"
   ]
  },
  {
   "cell_type": "markdown",
   "metadata": {},
   "source": [
    "Now, can you find out the following facts about the dataset?\n",
    "- Total number of students\n",
    "- Number of students who passed\n",
    "- Number of students who failed\n",
    "- Graduation rate of the class (%)\n",
    "- Number of features\n",
    "\n",
    "_Use the code block below to compute these values. Instructions/steps are marked using **TODO**s._"
   ]
  },
  {
   "cell_type": "code",
   "execution_count": 4,
   "metadata": {
    "collapsed": false
   },
   "outputs": [
    {
     "name": "stdout",
     "output_type": "stream",
     "text": [
      "Total number of students: 395\n",
      "Number of students who passed: 265\n",
      "Number of students who failed: 130\n",
      "Number of features: 30\n",
      "Graduation rate of the class: 67.09%\n"
     ]
    }
   ],
   "source": [
    "# TODO: Compute desired values - replace each '?' with an appropriate expression/function call\n",
    "n_students = len(student_data)\n",
    "# since the 'pass' column is the label target, it should not be considered as a feature.\n",
    "n_features = student_data.dtypes.size -1 \n",
    "n_passed = len(student_data[student_data.passed == \"yes\"])\n",
    "n_failed = len(student_data[student_data.passed == \"no\"])\n",
    "grad_rate = (float(n_passed)/n_students)*100\n",
    "print \"Total number of students: {}\".format(n_students)\n",
    "print \"Number of students who passed: {}\".format(n_passed)\n",
    "print \"Number of students who failed: {}\".format(n_failed)\n",
    "print \"Number of features: {}\".format(n_features)\n",
    "print \"Graduation rate of the class: {:.2f}%\".format(grad_rate)"
   ]
  },
  {
   "cell_type": "markdown",
   "metadata": {},
   "source": [
    "## 3. Preparing the Data\n",
    "In this section, we will prepare the data for modeling, training and testing.\n",
    "\n",
    "### Identify feature and target columns\n",
    "It is often the case that the data you obtain contains non-numeric features. This can be a problem, as most machine learning algorithms expect numeric data to perform computations with.\n",
    "\n",
    "Let's first separate our data into feature and target columns, and see if any features are non-numeric.<br/>\n",
    "**Note**: For this dataset, the last column (`'passed'`) is the target or label we are trying to predict."
   ]
  },
  {
   "cell_type": "code",
   "execution_count": 5,
   "metadata": {
    "collapsed": false
   },
   "outputs": [
    {
     "name": "stdout",
     "output_type": "stream",
     "text": [
      "Feature column(s):-\n",
      "['school', 'sex', 'age', 'address', 'famsize', 'Pstatus', 'Medu', 'Fedu', 'Mjob', 'Fjob', 'reason', 'guardian', 'traveltime', 'studytime', 'failures', 'schoolsup', 'famsup', 'paid', 'activities', 'nursery', 'higher', 'internet', 'romantic', 'famrel', 'freetime', 'goout', 'Dalc', 'Walc', 'health', 'absences']\n",
      "Target column: passed\n",
      "\n",
      "Feature values:-\n",
      "  school sex  age address famsize Pstatus  Medu  Fedu     Mjob      Fjob  \\\n",
      "0     GP   F   18       U     GT3       A     4     4  at_home   teacher   \n",
      "1     GP   F   17       U     GT3       T     1     1  at_home     other   \n",
      "2     GP   F   15       U     LE3       T     1     1  at_home     other   \n",
      "3     GP   F   15       U     GT3       T     4     2   health  services   \n",
      "4     GP   F   16       U     GT3       T     3     3    other     other   \n",
      "\n",
      "    ...    higher internet  romantic  famrel  freetime goout Dalc Walc health  \\\n",
      "0   ...       yes       no        no       4         3     4    1    1      3   \n",
      "1   ...       yes      yes        no       5         3     3    1    1      3   \n",
      "2   ...       yes      yes        no       4         3     2    2    3      3   \n",
      "3   ...       yes      yes       yes       3         2     2    1    1      5   \n",
      "4   ...       yes       no        no       4         3     2    1    2      5   \n",
      "\n",
      "  absences  \n",
      "0        6  \n",
      "1        4  \n",
      "2       10  \n",
      "3        2  \n",
      "4        4  \n",
      "\n",
      "[5 rows x 30 columns]\n"
     ]
    }
   ],
   "source": [
    "# Extract feature (X) and target (y) columns\n",
    "feature_cols = list(student_data.columns[:-1])  # all columns but last are features\n",
    "target_col = student_data.columns[-1]  # last column is the target/label\n",
    "print \"Feature column(s):-\\n{}\".format(feature_cols)\n",
    "print \"Target column: {}\".format(target_col)\n",
    "\n",
    "X_all = student_data[feature_cols]  # feature values for all students\n",
    "y_all = student_data[target_col]  # corresponding targets/labels\n",
    "print \"\\nFeature values:-\"\n",
    "print X_all.head()  # print the first 5 rows"
   ]
  },
  {
   "cell_type": "markdown",
   "metadata": {},
   "source": [
    "### Preprocess feature columns\n",
    "\n",
    "As you can see, there are several non-numeric columns that need to be converted! Many of them are simply `yes`/`no`, e.g. `internet`. These can be reasonably converted into `1`/`0` (binary) values.\n",
    "\n",
    "Other columns, like `Mjob` and `Fjob`, have more than two values, and are known as _categorical variables_. The recommended way to handle such a column is to create as many columns as possible values (e.g. `Fjob_teacher`, `Fjob_other`, `Fjob_services`, etc.), and assign a `1` to one of them and `0` to all others.\n",
    "\n",
    "These generated columns are sometimes called _dummy variables_, and we will use the [`pandas.get_dummies()`](http://pandas.pydata.org/pandas-docs/stable/generated/pandas.get_dummies.html?highlight=get_dummies#pandas.get_dummies) function to perform this transformation."
   ]
  },
  {
   "cell_type": "code",
   "execution_count": 6,
   "metadata": {
    "collapsed": false
   },
   "outputs": [
    {
     "name": "stdout",
     "output_type": "stream",
     "text": [
      "<bound method DataFrame.head of      school_GP  school_MS  sex_F  sex_M  age  address_R  address_U  \\\n",
      "0            1          0      1      0   18          0          1   \n",
      "1            1          0      1      0   17          0          1   \n",
      "2            1          0      1      0   15          0          1   \n",
      "3            1          0      1      0   15          0          1   \n",
      "4            1          0      1      0   16          0          1   \n",
      "5            1          0      0      1   16          0          1   \n",
      "6            1          0      0      1   16          0          1   \n",
      "7            1          0      1      0   17          0          1   \n",
      "8            1          0      0      1   15          0          1   \n",
      "9            1          0      0      1   15          0          1   \n",
      "10           1          0      1      0   15          0          1   \n",
      "11           1          0      1      0   15          0          1   \n",
      "12           1          0      0      1   15          0          1   \n",
      "13           1          0      0      1   15          0          1   \n",
      "14           1          0      0      1   15          0          1   \n",
      "15           1          0      1      0   16          0          1   \n",
      "16           1          0      1      0   16          0          1   \n",
      "17           1          0      1      0   16          0          1   \n",
      "18           1          0      0      1   17          0          1   \n",
      "19           1          0      0      1   16          0          1   \n",
      "20           1          0      0      1   15          0          1   \n",
      "21           1          0      0      1   15          0          1   \n",
      "22           1          0      0      1   16          0          1   \n",
      "23           1          0      0      1   16          0          1   \n",
      "24           1          0      1      0   15          1          0   \n",
      "25           1          0      1      0   16          0          1   \n",
      "26           1          0      0      1   15          0          1   \n",
      "27           1          0      0      1   15          0          1   \n",
      "28           1          0      0      1   16          0          1   \n",
      "29           1          0      0      1   16          0          1   \n",
      "..         ...        ...    ...    ...  ...        ...        ...   \n",
      "365          0          1      0      1   18          1          0   \n",
      "366          0          1      0      1   18          0          1   \n",
      "367          0          1      1      0   17          1          0   \n",
      "368          0          1      1      0   18          0          1   \n",
      "369          0          1      1      0   18          1          0   \n",
      "370          0          1      1      0   19          0          1   \n",
      "371          0          1      0      1   18          1          0   \n",
      "372          0          1      1      0   17          0          1   \n",
      "373          0          1      1      0   17          1          0   \n",
      "374          0          1      1      0   18          1          0   \n",
      "375          0          1      1      0   18          1          0   \n",
      "376          0          1      1      0   20          0          1   \n",
      "377          0          1      1      0   18          1          0   \n",
      "378          0          1      1      0   18          0          1   \n",
      "379          0          1      1      0   17          1          0   \n",
      "380          0          1      0      1   18          0          1   \n",
      "381          0          1      0      1   18          1          0   \n",
      "382          0          1      0      1   17          0          1   \n",
      "383          0          1      0      1   19          1          0   \n",
      "384          0          1      0      1   18          1          0   \n",
      "385          0          1      1      0   18          1          0   \n",
      "386          0          1      1      0   18          1          0   \n",
      "387          0          1      1      0   19          1          0   \n",
      "388          0          1      1      0   18          0          1   \n",
      "389          0          1      1      0   18          0          1   \n",
      "390          0          1      0      1   20          0          1   \n",
      "391          0          1      0      1   17          0          1   \n",
      "392          0          1      0      1   21          1          0   \n",
      "393          0          1      0      1   18          1          0   \n",
      "394          0          1      0      1   19          0          1   \n",
      "\n",
      "     famsize_GT3  famsize_LE3  Pstatus_A    ...     higher  internet  \\\n",
      "0              1            0          1    ...          1         0   \n",
      "1              1            0          0    ...          1         1   \n",
      "2              0            1          0    ...          1         1   \n",
      "3              1            0          0    ...          1         1   \n",
      "4              1            0          0    ...          1         0   \n",
      "5              0            1          0    ...          1         1   \n",
      "6              0            1          0    ...          1         1   \n",
      "7              1            0          1    ...          1         0   \n",
      "8              0            1          1    ...          1         1   \n",
      "9              1            0          0    ...          1         1   \n",
      "10             1            0          0    ...          1         1   \n",
      "11             1            0          0    ...          1         1   \n",
      "12             0            1          0    ...          1         1   \n",
      "13             1            0          0    ...          1         1   \n",
      "14             1            0          1    ...          1         1   \n",
      "15             1            0          0    ...          1         1   \n",
      "16             1            0          0    ...          1         1   \n",
      "17             1            0          0    ...          1         0   \n",
      "18             1            0          0    ...          1         1   \n",
      "19             0            1          0    ...          1         1   \n",
      "20             1            0          0    ...          1         1   \n",
      "21             1            0          0    ...          1         1   \n",
      "22             0            1          0    ...          1         1   \n",
      "23             0            1          0    ...          1         1   \n",
      "24             1            0          0    ...          1         1   \n",
      "25             1            0          0    ...          1         1   \n",
      "26             1            0          0    ...          1         1   \n",
      "27             1            0          0    ...          1         1   \n",
      "28             0            1          1    ...          1         1   \n",
      "29             1            0          0    ...          1         1   \n",
      "..           ...          ...        ...    ...        ...       ...   \n",
      "365            1            0          0    ...          1         0   \n",
      "366            0            1          0    ...          1         1   \n",
      "367            1            0          0    ...          1         1   \n",
      "368            1            0          0    ...          1         1   \n",
      "369            1            0          0    ...          1         1   \n",
      "370            0            1          0    ...          1         0   \n",
      "371            0            1          0    ...          0         1   \n",
      "372            1            0          0    ...          1         0   \n",
      "373            1            0          0    ...          1         1   \n",
      "374            0            1          0    ...          1         1   \n",
      "375            1            0          0    ...          1         1   \n",
      "376            1            0          0    ...          1         1   \n",
      "377            0            1          0    ...          1         1   \n",
      "378            1            0          0    ...          1         1   \n",
      "379            1            0          0    ...          1         1   \n",
      "380            1            0          0    ...          1         1   \n",
      "381            1            0          0    ...          1         1   \n",
      "382            1            0          0    ...          1         1   \n",
      "383            1            0          0    ...          1         0   \n",
      "384            1            0          0    ...          1         0   \n",
      "385            1            0          0    ...          1         0   \n",
      "386            1            0          0    ...          1         1   \n",
      "387            1            0          0    ...          1         1   \n",
      "388            0            1          0    ...          1         1   \n",
      "389            1            0          0    ...          1         0   \n",
      "390            0            1          1    ...          1         0   \n",
      "391            0            1          0    ...          1         1   \n",
      "392            1            0          0    ...          1         0   \n",
      "393            0            1          0    ...          1         1   \n",
      "394            0            1          0    ...          1         1   \n",
      "\n",
      "     romantic  famrel  freetime  goout  Dalc  Walc  health  absences  \n",
      "0           0       4         3      4     1     1       3         6  \n",
      "1           0       5         3      3     1     1       3         4  \n",
      "2           0       4         3      2     2     3       3        10  \n",
      "3           1       3         2      2     1     1       5         2  \n",
      "4           0       4         3      2     1     2       5         4  \n",
      "5           0       5         4      2     1     2       5        10  \n",
      "6           0       4         4      4     1     1       3         0  \n",
      "7           0       4         1      4     1     1       1         6  \n",
      "8           0       4         2      2     1     1       1         0  \n",
      "9           0       5         5      1     1     1       5         0  \n",
      "10          0       3         3      3     1     2       2         0  \n",
      "11          0       5         2      2     1     1       4         4  \n",
      "12          0       4         3      3     1     3       5         2  \n",
      "13          0       5         4      3     1     2       3         2  \n",
      "14          1       4         5      2     1     1       3         0  \n",
      "15          0       4         4      4     1     2       2         4  \n",
      "16          0       3         2      3     1     2       2         6  \n",
      "17          0       5         3      2     1     1       4         4  \n",
      "18          0       5         5      5     2     4       5        16  \n",
      "19          0       3         1      3     1     3       5         4  \n",
      "20          0       4         4      1     1     1       1         0  \n",
      "21          0       5         4      2     1     1       5         0  \n",
      "22          0       4         5      1     1     3       5         2  \n",
      "23          0       5         4      4     2     4       5         0  \n",
      "24          0       4         3      2     1     1       5         2  \n",
      "25          0       1         2      2     1     3       5        14  \n",
      "26          0       4         2      2     1     2       5         2  \n",
      "27          0       2         2      4     2     4       1         4  \n",
      "28          0       5         3      3     1     1       5         4  \n",
      "29          1       4         4      5     5     5       5        16  \n",
      "..        ...     ...       ...    ...   ...   ...     ...       ...  \n",
      "365         0       3         3      4     2     4       3         4  \n",
      "366         1       4         2      2     2     2       5         0  \n",
      "367         1       5         2      1     1     2       1         0  \n",
      "368         1       5         2      3     1     2       4         0  \n",
      "369         1       3         2      2     4     2       5        10  \n",
      "370         1       3         2      2     1     1       3         4  \n",
      "371         1       4         3      3     2     3       3         3  \n",
      "372         1       3         4      3     1     1       3         8  \n",
      "373         0       3         5      5     1     3       1        14  \n",
      "374         0       5         4      4     1     1       1         0  \n",
      "375         0       4         3      2     1     2       4         2  \n",
      "376         1       5         4      3     1     1       3         4  \n",
      "377         0       5         4      3     3     4       2         4  \n",
      "378         1       4         1      3     1     2       1         0  \n",
      "379         0       4         5      4     2     3       1        17  \n",
      "380         0       3         2      4     1     4       2         4  \n",
      "381         1       4         4      3     1     3       5         5  \n",
      "382         0       4         4      3     1     1       3         2  \n",
      "383         0       4         3      2     1     3       5         0  \n",
      "384         0       5         4      3     4     3       3        14  \n",
      "385         0       5         3      3     1     3       4         2  \n",
      "386         1       4         4      3     2     2       5         7  \n",
      "387         0       5         4      2     1     2       5         0  \n",
      "388         0       4         3      4     1     1       1         0  \n",
      "389         0       1         1      1     1     1       5         0  \n",
      "390         0       5         5      4     4     5       4        11  \n",
      "391         0       2         4      5     3     4       2         3  \n",
      "392         0       5         5      3     3     3       3         3  \n",
      "393         0       4         4      1     3     4       5         0  \n",
      "394         0       3         2      3     3     3       5         5  \n",
      "\n",
      "[395 rows x 48 columns]>\n",
      "Processed feature columns (48):-\n",
      "['school_GP', 'school_MS', 'sex_F', 'sex_M', 'age', 'address_R', 'address_U', 'famsize_GT3', 'famsize_LE3', 'Pstatus_A', 'Pstatus_T', 'Medu', 'Fedu', 'Mjob_at_home', 'Mjob_health', 'Mjob_other', 'Mjob_services', 'Mjob_teacher', 'Fjob_at_home', 'Fjob_health', 'Fjob_other', 'Fjob_services', 'Fjob_teacher', 'reason_course', 'reason_home', 'reason_other', 'reason_reputation', 'guardian_father', 'guardian_mother', 'guardian_other', 'traveltime', 'studytime', 'failures', 'schoolsup', 'famsup', 'paid', 'activities', 'nursery', 'higher', 'internet', 'romantic', 'famrel', 'freetime', 'goout', 'Dalc', 'Walc', 'health', 'absences']\n"
     ]
    }
   ],
   "source": [
    "# Preprocess feature columns\n",
    "def preprocess_features(X):\n",
    "    outX = pd.DataFrame(index=X.index)  # output dataframe, initially empty\n",
    "    # Check each column\n",
    "    for col, col_data in X.iteritems():\n",
    "        # If data type is non-numeric, try to replace all yes/no values with 1/0\n",
    "        if col_data.dtype == object:\n",
    "            col_data = col_data.replace(['yes', 'no'], [1, 0])\n",
    "        # Note: This should change the data type for yes/no columns to int\n",
    "\n",
    "        # If still non-numeric, convert to one or more dummy variables\n",
    "        if col_data.dtype == object:\n",
    "            col_data = pd.get_dummies(col_data, prefix=col)  # e.g. 'school' => 'school_GP', 'school_MS'\n",
    "        outX = outX.join(col_data)  # collect column(s) in output dataframe\n",
    "\n",
    "    return outX\n",
    "\n",
    "X_all = preprocess_features(X_all)\n",
    "print X_all.head\n",
    "print \"Processed feature columns ({}):-\\n{}\".format(len(X_all.columns), list(X_all.columns))"
   ]
  },
  {
   "cell_type": "markdown",
   "metadata": {},
   "source": [
    "### Split data into training and test sets\n",
    "\n",
    "So far, we have converted all _categorical_ features into numeric values. In this next step, we split the data (both features and corresponding labels) into training and test sets."
   ]
  },
  {
   "cell_type": "code",
   "execution_count": 7,
   "metadata": {
    "collapsed": false
   },
   "outputs": [
    {
     "name": "stdout",
     "output_type": "stream",
     "text": [
      "Training set: 300 samples\n",
      "Test set: 95 samples\n"
     ]
    }
   ],
   "source": [
    "# First, decide how many training vs test samples you want\n",
    "num_all = student_data.shape[0]  # same as len(student_data)\n",
    "num_train = 300  # about 75% of the data\n",
    "num_test = num_all - num_train\n",
    "\n",
    "# TODO: Then, select features (X) and corresponding labels (y) for the training and test sets\n",
    "# Note: Shuffle the data or randomly select samples to avoid any bias due to ordering in the dataset\n",
    "from sklearn import cross_validation\n",
    "X_train, X_test, y_train, y_test = cross_validation.train_test_split(X_all,  y_all, test_size=0.24)\n",
    "\n",
    "X_train_200 = X_train[0:200]\n",
    "X_train_100 = X_train[0:100]\n",
    "\n",
    "y_train_200 = y_train[0:200]\n",
    "y_train_100 = y_train[0:100]\n",
    "\n",
    "print \"Training set: {} samples\".format(X_train.shape[0])\n",
    "print \"Test set: {} samples\".format(X_test.shape[0])\n",
    "# Note: If you need a validation set, extract it from within training data"
   ]
  },
  {
   "cell_type": "markdown",
   "metadata": {},
   "source": [
    "## 4. Training and Evaluating Models\n",
    "Choose 3 supervised learning models that are available in scikit-learn, and appropriate for this problem. For each model:\n",
    "\n",
    "- What are the general applications of this model? What are its strengths and weaknesses?\n",
    "- Given what you know about the data so far, why did you choose this model to apply?\n",
    "- Fit this model to the training data, try to predict labels (for both training and test sets), and measure the F<sub>1</sub> score. Repeat this process with different training set sizes (100, 200, 300), keeping test set constant.\n",
    "\n",
    "Produce a table showing training time, prediction time, F<sub>1</sub> score on training set and F<sub>1</sub> score on test set, for each training set size.\n",
    "\n",
    "Note: You need to produce 3 such tables - one for each model."
   ]
  },
  {
   "cell_type": "code",
   "execution_count": 8,
   "metadata": {
    "collapsed": true
   },
   "outputs": [],
   "source": [
    "\n",
    "class ListTable(list):\n",
    "    \"\"\" Overridden list class which renders an HTML Table in IPython Notebook. \"\"\"\n",
    "    def __init__(self, classifier):\n",
    "        self.classifier = classifier\n",
    "    \n",
    "    def _repr_html_(self):\n",
    "        html = [\"<table>\"]\n",
    "        html.append(\"<tr>\")\n",
    "        html.append(\"<th rowspan='2'>\"+self.classifier+\"</th><th colspan='3'>Training set size</th>\")\n",
    "        html.append(\"</tr>\")\n",
    "        html.append(\"<tr>\")\n",
    "        html.append(\"<td> 100 </td>\")\n",
    "        html.append(\"<td> 200 </td>\")\n",
    "        html.append(\"<td> 300 </td>\")        \n",
    "        html.append(\"</tr>\")\n",
    "        html.append(\"</table\")\n",
    "        for row in self:\n",
    "            html.append(\"<tr>\")\n",
    "            \n",
    "            for col in row:\n",
    "                html.append(\"<td>{0}</td>\".format(col))\n",
    "            \n",
    "            html.append(\"</tr>\")\n",
    "        html.append(\"</table>\")\n",
    "        return ''.join(html)\n",
    "def insertData(classifier, t1, t2, t3, p1, p2, p3, ft1, ft2, ft3, fte1, fte2, fte3):\n",
    "    table = ListTable(classifier)\n",
    "    table.append(['Training time (secs)', t1, t2, t3])\n",
    "    table.append(['Prediction time (secs)', p1, p2, p3])\n",
    "    table.append(['F1 score for training set', ft1, ft2, ft3])\n",
    "    table.append(['F1 score for test set', fte1, fte2, fte3])\n",
    "    return table    \n",
    "def transferIntoTable(classifier, sample100, sample200, sample300):\n",
    "    return insertData(classifier, sample100.t, sample200.t, sample300.t, sample100.p, sample200.p, sample300.p, sample100.f1train, sample200.f1train, sample300.f1train, sample100.f1scoretest, sample200.f1scoretest, sample300.f1scoretest)"
   ]
  },
  {
   "cell_type": "markdown",
   "metadata": {},
   "source": [
    "### Naive Bayes\n",
    "Naive Bayes is a machine learning algorithm for classification which uses probabilities underlying the Bayes theorem to classify the input to a certain output. The Naive Bayes models are using maximum likelihood for parameter estimation. One advantage of Naive Bayes it that it only requires a small amount of data to estimate parameters for classification in comparision to other machine learning algorithms. Naive Bayes assumes independent features for each feature distribution and it can be seen as a one-dimensional distribution. This elminates the problems associated with the curse of dimensionality, which is about scaling the data when introducing a new feature.\n",
    "The most disadvantage of naive bayes is when there are no occurrences of a certain class label with a certain attribute then the computed probability will be zero. This is reasoned by the given assumption of conditional independence. When there is one probability of zero multiplied with other probabilities the result will be zero.\n",
    "I mainly chose Naive Bayes because there is no much data in this example and it produces a good parameter estimation."
   ]
  },
  {
   "cell_type": "code",
   "execution_count": 9,
   "metadata": {
    "collapsed": false
   },
   "outputs": [
    {
     "name": "stdout",
     "output_type": "stream",
     "text": [
      "Training GaussianNB...\n",
      "Done!\n",
      "Training time (secs): 0.002\n",
      "GaussianNB()\n"
     ]
    }
   ],
   "source": [
    "# Train a model\n",
    "import time\n",
    "\n",
    "def train_classifier(clf, X_train, y_train):\n",
    "    print \"Training {}...\".format(clf.__class__.__name__)\n",
    "    start = time.time()\n",
    "    clf.fit(X_train, y_train)\n",
    "    end = time.time()\n",
    "    difference = round((end - start),3)\n",
    "    print \"Done!\\nTraining time (secs): {:.3f}\".format(difference)\n",
    "    return difference\n",
    "\n",
    "# TODO: Choose a model, import it and instantiate an object\n",
    "from sklearn.naive_bayes import GaussianNB\n",
    "clf = GaussianNB()\n",
    "\n",
    "# Fit model to training data\n",
    "train_classifier(clf, X_train, y_train)  # note: using entire training set here\n",
    "print clf# you can inspect the learned model by printing it"
   ]
  },
  {
   "cell_type": "code",
   "execution_count": 10,
   "metadata": {
    "collapsed": true
   },
   "outputs": [],
   "source": [
    "def f1score(classifier, xtest, ytest, dataset):\n",
    "    predicted = predict_labels(classifier, xtest, ytest)\n",
    "    print \"F1 score for {0} set({1}): {2}\".format(dataset, xtest.shape[0], predicted[1])\n",
    "    return predicted"
   ]
  },
  {
   "cell_type": "code",
   "execution_count": 11,
   "metadata": {
    "collapsed": false
   },
   "outputs": [
    {
     "name": "stdout",
     "output_type": "stream",
     "text": [
      "Predicting labels using GaussianNB...\n",
      "Done!\n",
      "Prediction time (secs): 0.0010\n",
      "Predicting labels using GaussianNB...\n",
      "Done!\n",
      "Prediction time (secs): 0.0008\n",
      "F1 score for training set(300): 0.793893129771\n"
     ]
    },
    {
     "data": {
      "text/plain": [
       "(0.0008, 0.79389312977099236)"
      ]
     },
     "execution_count": 11,
     "metadata": {},
     "output_type": "execute_result"
    }
   ],
   "source": [
    "# Predict on training set and compute F1 score\n",
    "from sklearn.metrics import f1_score\n",
    "\n",
    "def predict_labels(clf, features, target):\n",
    "    print \"Predicting labels using {}...\".format(clf.__class__.__name__)\n",
    "    start = time.time()\n",
    "    y_pred = clf.predict(features)\n",
    "    end = time.time()\n",
    "    difference = round(end-start, 4)\n",
    "    print \"Done!\\nPrediction time (secs): {:.4f}\".format(end - start)\n",
    "    return (difference, f1_score(target.values, y_pred, pos_label='yes'))\n",
    "\n",
    "train_f1_score = predict_labels(clf, X_train, y_train)\n",
    "f1score(clf, X_train, y_train, \"training\")"
   ]
  },
  {
   "cell_type": "code",
   "execution_count": 12,
   "metadata": {
    "collapsed": false
   },
   "outputs": [
    {
     "name": "stdout",
     "output_type": "stream",
     "text": [
      "Predicting labels using GaussianNB...\n",
      "Done!\n",
      "Prediction time (secs): 0.0005\n",
      "F1 score for test set(95): 0.65625\n"
     ]
    },
    {
     "data": {
      "text/plain": [
       "(0.0005, 0.65625)"
      ]
     },
     "execution_count": 12,
     "metadata": {},
     "output_type": "execute_result"
    }
   ],
   "source": [
    "# Predict on test data\n",
    "f1score(clf, X_test, y_test, \"test\")"
   ]
  },
  {
   "cell_type": "code",
   "execution_count": 13,
   "metadata": {
    "collapsed": false
   },
   "outputs": [
    {
     "name": "stdout",
     "output_type": "stream",
     "text": [
      "------------------------------------------\n",
      "Training set size: 300\n",
      "Training GaussianNB...\n",
      "Done!\n",
      "Training time (secs): 0.002\n",
      "Predicting labels using GaussianNB...\n",
      "Done!\n",
      "Prediction time (secs): 0.0005\n",
      "F1 score for training set(300): 0.793893129771\n",
      "Predicting labels using GaussianNB...\n",
      "Done!\n",
      "Prediction time (secs): 0.0004\n",
      "F1 score for test set(95): 0.65625\n",
      "------------------------------------------\n",
      "Training set size: 200\n",
      "Training GaussianNB...\n",
      "Done!\n",
      "Training time (secs): 0.001\n",
      "Predicting labels using GaussianNB...\n",
      "Done!\n",
      "Prediction time (secs): 0.0004\n",
      "F1 score for training set(200): 0.76\n",
      "Predicting labels using GaussianNB...\n",
      "Done!\n",
      "Prediction time (secs): 0.0002\n",
      "F1 score for test set(95): 0.634920634921\n",
      "------------------------------------------\n",
      "Training set size: 100\n",
      "Training GaussianNB...\n",
      "Done!\n",
      "Training time (secs): 0.001\n",
      "Predicting labels using GaussianNB...\n",
      "Done!\n",
      "Prediction time (secs): 0.0002\n",
      "F1 score for training set(100): 0.806451612903\n",
      "Predicting labels using GaussianNB...\n",
      "Done!\n",
      "Prediction time (secs): 0.0002\n",
      "F1 score for test set(95): 0.624\n"
     ]
    },
    {
     "data": {
      "text/html": [
       "<table><tr><th rowspan='2'>Naive Bayes</th><th colspan='3'>Training set size</th></tr><tr><td> 100 </td><td> 200 </td><td> 300 </td></tr></table<tr><td>Training time (secs)</td><td>0.001</td><td>0.001</td><td>0.002</td></tr><tr><td>Prediction time (secs)</td><td>0.0002</td><td>0.0004</td><td>0.0005</td></tr><tr><td>F1 score for training set</td><td>0.806451612903</td><td>0.76</td><td>0.793893129771</td></tr><tr><td>F1 score for test set</td><td>0.624</td><td>0.634920634921</td><td>0.65625</td></tr></table>"
      ],
      "text/plain": [
       "[['Training time (secs)', 0.001, 0.001, 0.002],\n",
       " ['Prediction time (secs)', 0.0002, 0.0004, 0.0005],\n",
       " ['F1 score for training set',\n",
       "  0.80645161290322587,\n",
       "  0.76000000000000001,\n",
       "  0.79389312977099236],\n",
       " ['F1 score for test set', 0.624, 0.634920634920635, 0.65625]]"
      ]
     },
     "execution_count": 13,
     "metadata": {},
     "output_type": "execute_result"
    }
   ],
   "source": [
    "# Train and predict using different training set sizes\n",
    "class ClassifierInformation:\n",
    "    def __init__(self, trainingtime, predictiontime, f1scoretrain, f1scoretest):\n",
    "        self.t = trainingtime\n",
    "        self.p = predictiontime\n",
    "        self.f1train = f1scoretrain\n",
    "        self.f1scoretest = f1scoretest\n",
    "        \n",
    "def train_predict(clf, X_train, y_train, X_test, y_test):\n",
    "    print \"------------------------------------------\"\n",
    "    print \"Training set size: {}\".format(len(X_train))\n",
    "    trainingtime = train_classifier(clf, X_train, y_train)\n",
    "#   print \"F1 score for training set: {}\".format(predict_labels(clf, X_train, y_train))\n",
    "    predictedTraining = f1score(clf, X_train, y_train, \"training\")\n",
    "#    print \"F1 score for test set: {}\".format(predict_labels(clf, X_test, y_test))\n",
    "    predictedTest = f1score(clf, X_test, y_test, \"test\")\n",
    "    return ClassifierInformation(trainingtime, predictedTraining[0], predictedTraining[1], predictedTest[1])\n",
    "\n",
    "# TODO: Run the helper function above for desired subsets of training data\n",
    "nbsample300 = train_predict(clf, X_train, y_train, X_test, y_test)\n",
    "# Note: Keep the test set constant\n",
    "nbsample200 = train_predict(clf, X_train_200, y_train_200, X_test, y_test)\n",
    "nbsample100 = train_predict(clf, X_train_100, y_train_100, X_test, y_test)\n",
    "nbModel = transferIntoTable(\"Naive Bayes\", nbsample100, nbsample200, nbsample300)\n",
    "nbModel"
   ]
  },
  {
   "cell_type": "markdown",
   "metadata": {},
   "source": [
    "### K-Nearest-Neighbors\n",
    "K-Nearest-Neighbors is used for classification and regression. The input is compared to the nearest k neighbors to define the output. All features are treated equally. Since there are areas of certain labeled data it is very robost to noisy training data. This can also be improved by weighting the distance. If there is too much training data, which is not the case in this example, it is very effective because it is a lazy learner. A lazy learner has no need for a training phase, because every new query has be computed and will be classified through the k nearest neighbors.  \n",
    "\n",
    "However there are also some disadvantages. Based on the number of feature grows, the amount of data that we need grows exponentially (curse of dimensionality). So we need alot of data. A decision about the number of the nearest neighbours has to be made. It is not always clear which type of distance should be used to produce the best results. Also a decision has to be made about which features are important. In a runtime environment it is a very expensive algorithm in comparision to other algorithms because each query has to be computed.\n",
    "\n",
    "I used this algorithm because it is very simple and the features are treated equally. "
   ]
  },
  {
   "cell_type": "code",
   "execution_count": 14,
   "metadata": {
    "collapsed": false
   },
   "outputs": [
    {
     "name": "stdout",
     "output_type": "stream",
     "text": [
      "------------------------------------------\n",
      "Training set size: 300\n",
      "Training KNeighborsClassifier...\n",
      "Done!\n",
      "Training time (secs): 0.002\n",
      "Predicting labels using KNeighborsClassifier...\n",
      "Done!\n",
      "Prediction time (secs): 0.0075\n",
      "F1 score for training set(300): 0.854460093897\n",
      "Predicting labels using KNeighborsClassifier...\n",
      "Done!\n",
      "Prediction time (secs): 0.0018\n",
      "F1 score for test set(95): 0.8\n",
      "------------------------------------------\n",
      "Training set size: 200\n",
      "Training KNeighborsClassifier...\n",
      "Done!\n",
      "Training time (secs): 0.001\n",
      "Predicting labels using KNeighborsClassifier...\n",
      "Done!\n",
      "Prediction time (secs): 0.0038\n",
      "F1 score for training set(200): 0.796875\n",
      "Predicting labels using KNeighborsClassifier...\n",
      "Done!\n",
      "Prediction time (secs): 0.0018\n",
      "F1 score for test set(95): 0.802816901408\n",
      "------------------------------------------\n",
      "Training set size: 100\n",
      "Training KNeighborsClassifier...\n",
      "Done!\n",
      "Training time (secs): 0.000\n",
      "Predicting labels using KNeighborsClassifier...\n",
      "Done!\n",
      "Prediction time (secs): 0.0010\n",
      "F1 score for training set(100): 0.861538461538\n",
      "Predicting labels using KNeighborsClassifier...\n",
      "Done!\n",
      "Prediction time (secs): 0.0009\n",
      "F1 score for test set(95): 0.746478873239\n"
     ]
    },
    {
     "data": {
      "text/html": [
       "<table><tr><th rowspan='2'>KNN</th><th colspan='3'>Training set size</th></tr><tr><td> 100 </td><td> 200 </td><td> 300 </td></tr></table<tr><td>Training time (secs)</td><td>0.0</td><td>0.001</td><td>0.002</td></tr><tr><td>Prediction time (secs)</td><td>0.001</td><td>0.0038</td><td>0.0075</td></tr><tr><td>F1 score for training set</td><td>0.861538461538</td><td>0.796875</td><td>0.854460093897</td></tr><tr><td>F1 score for test set</td><td>0.746478873239</td><td>0.802816901408</td><td>0.8</td></tr></table>"
      ],
      "text/plain": [
       "[['Training time (secs)', 0.0, 0.001, 0.002],\n",
       " ['Prediction time (secs)', 0.001, 0.0038, 0.0075],\n",
       " ['F1 score for training set',\n",
       "  0.86153846153846159,\n",
       "  0.796875,\n",
       "  0.85446009389671351],\n",
       " ['F1 score for test set',\n",
       "  0.74647887323943674,\n",
       "  0.80281690140845063,\n",
       "  0.80000000000000004]]"
      ]
     },
     "execution_count": 14,
     "metadata": {},
     "output_type": "execute_result"
    }
   ],
   "source": [
    "# TODO: Train and predict using two other models\n",
    "# 1 Knn Model\n",
    "from sklearn.neighbors import KNeighborsClassifier\n",
    "knn_clf = KNeighborsClassifier(n_neighbors=5)\n",
    "\n",
    "# Fit model to training data\n",
    "knnsample300 = train_predict(knn_clf, X_train, y_train, X_test, y_test)\n",
    "# Note: Keep the test set constant\n",
    "knnsample200 = train_predict(knn_clf, X_train_200, y_train_200, X_test, y_test)\n",
    "knnsample100 = train_predict(knn_clf, X_train_100, y_train_100, X_test, y_test)\n",
    "knnModel = transferIntoTable(\"KNN\",knnsample100, knnsample200, knnsample300)\n",
    "knnModel"
   ]
  },
  {
   "cell_type": "markdown",
   "metadata": {},
   "source": [
    "### Support Vector Machine \n",
    "Support Vector Machine are supervised learning models associated with learning algorithms that are used for classification or regression problems. The underlying technique is the kernel trick which transforms the data into the boundaries for the possible outputs. The boundaries are depending on the used kernel and can be linear and non-linear. On one side the non-linear boundary benefits much more complex relationships of the data. On other side the computation of the training set does have an higher latency. The algorithm is very effective in high dimensional spaces because of its ability to model complex relationship. If the number of the features is much greater than the number of the samples in the data set, svm will have a poor performance. The limitation is due to the choice of the kernel.\n",
    "\n",
    "If we have complex data relationship, svm is clearly the winner. Its behaviour is a little bit like a black box, because it is very difficult to interpret the boundary plane. \n",
    "\n",
    "I chose SVM because the data has a lot of features where it is possible that there is a complex relationship between several features and also it is very effective in high dimensional space."
   ]
  },
  {
   "cell_type": "code",
   "execution_count": 15,
   "metadata": {
    "collapsed": false,
    "scrolled": true
   },
   "outputs": [
    {
     "name": "stdout",
     "output_type": "stream",
     "text": [
      "Training SVC...\n",
      "Done!\n",
      "Training time (secs): 0.008\n",
      "------------------------------------------\n",
      "Training set size: 300\n",
      "Training SVC...\n",
      "Done!\n",
      "Training time (secs): 0.006\n",
      "Predicting labels using SVC...\n",
      "Done!\n",
      "Prediction time (secs): 0.0041\n",
      "F1 score for training set(300): 0.872727272727\n",
      "Predicting labels using SVC...\n",
      "Done!\n",
      "Prediction time (secs): 0.0016\n",
      "F1 score for test set(95): 0.813333333333\n",
      "------------------------------------------\n",
      "Training set size: 200\n",
      "Training SVC...\n",
      "Done!\n",
      "Training time (secs): 0.003\n",
      "Predicting labels using SVC...\n",
      "Done!\n",
      "Prediction time (secs): 0.0025\n",
      "F1 score for training set(200): 0.867647058824\n",
      "Predicting labels using SVC...\n",
      "Done!\n",
      "Prediction time (secs): 0.0017\n",
      "F1 score for test set(95): 0.811188811189\n",
      "------------------------------------------\n",
      "Training set size: 100\n",
      "Training SVC...\n",
      "Done!\n",
      "Training time (secs): 0.001\n",
      "Predicting labels using SVC...\n",
      "Done!\n",
      "Prediction time (secs): 0.0007\n",
      "F1 score for training set(100): 0.869565217391\n",
      "Predicting labels using SVC...\n",
      "Done!\n",
      "Prediction time (secs): 0.0007\n",
      "F1 score for test set(95): 0.8\n"
     ]
    },
    {
     "data": {
      "text/html": [
       "<table><tr><th rowspan='2'>SVM</th><th colspan='3'>Training set size</th></tr><tr><td> 100 </td><td> 200 </td><td> 300 </td></tr></table<tr><td>Training time (secs)</td><td>0.001</td><td>0.003</td><td>0.006</td></tr><tr><td>Prediction time (secs)</td><td>0.0007</td><td>0.0025</td><td>0.0041</td></tr><tr><td>F1 score for training set</td><td>0.869565217391</td><td>0.867647058824</td><td>0.872727272727</td></tr><tr><td>F1 score for test set</td><td>0.8</td><td>0.811188811189</td><td>0.813333333333</td></tr></table>"
      ],
      "text/plain": [
       "[['Training time (secs)', 0.001, 0.003, 0.006],\n",
       " ['Prediction time (secs)', 0.0007, 0.0025, 0.0041],\n",
       " ['F1 score for training set',\n",
       "  0.86956521739130443,\n",
       "  0.86764705882352933,\n",
       "  0.87272727272727268],\n",
       " ['F1 score for test set',\n",
       "  0.80000000000000004,\n",
       "  0.81118881118881125,\n",
       "  0.81333333333333346]]"
      ]
     },
     "execution_count": 15,
     "metadata": {},
     "output_type": "execute_result"
    }
   ],
   "source": [
    "# SuportVectorMachine Model\n",
    "from sklearn import svm\n",
    "svc_clf = svm.SVC()\n",
    "train_classifier(svc_clf, X_train, y_train)\n",
    "svmsample300 = train_predict(svc_clf, X_train, y_train, X_test, y_test)\n",
    "# Note: Keep the test set constant\n",
    "svmsample200 = train_predict(svc_clf, X_train_200, y_train_200, X_test, y_test)\n",
    "svmsample100 = train_predict(svc_clf, X_train_100, y_train_100, X_test, y_test)\n",
    "\n",
    "svmModel = transferIntoTable(\"SVM\",svmsample100, svmsample200, svmsample300)\n",
    "svmModel\n"
   ]
  },
  {
   "cell_type": "markdown",
   "metadata": {},
   "source": [
    "## 5. Choosing the Best Model\n",
    "\n",
    "- Based on the experiments you performed earlier, in 1-2 paragraphs explain to the board of supervisors what single model you chose as the best model. Which model is generally the most appropriate based on the available data, limited resources, cost, and performance?\n",
    "\n",
    "In my opinion the best model is SVM. We have the highest f1 score at each size of training set. I think in this case it is a very good decision, because the data set is not that big that the training and prediction time are kept low. \n",
    "\n",
    "The computation is also really nearly at the same level like the other models. It is a litte bit higher at the training time. But in the prediction time it is like on the same level as the Naive Bayes which is really good and fast. \n",
    "\n",
    "Since the school preferes better results, I would go with the SVM!\n",
    "\n",
    "- In 1-2 paragraphs explain to the board of supervisors in layman's terms how the final model chosen is supposed to work (for example if you chose a Decision Tree or Support Vector Machine, how does it make a prediction).\n",
    "\n",
    "The image below is from the following source https://www.quora.com/What-does-support-vector-machine-SVM-mean-in-laymans-terms/answer/Premkumar-Natarajan?srid=7zNK\n",
    "<img src=\"svm.PNG\">\n",
    "\n",
    "The image shows different data from the e.g. given student data in a 2 dimensional space. Based on the features the data is plotted differently. There are two groups of students which are showed in the data. One group is blue coloured, these students passed and other group is red coloured, these students failed. Now imagine we are getting a new student which has to be classified either in the blue or the red group. We want to predict if he will pass or fail. To do this we need a boundary between the students how passed or failed to define the area of a certain group. As a delimiter we need a line which separates the groups clearly. The best delimiter is the one that gives the maximum margin between the closets data points of each group. In a nutshell this is an optimization problem to find the maximum margin to separate the data groups from each other. SVM is the algorithm which finds the maximum margin between the groups. When the straight line like in the example can not do a job, there is also the option to use a non-linear line. This results in a more complex line. However, the SVM algorithm gives us a tool which always finds the best boundary. This refers to the kernel trick, where the developer can pass several parameters and the kernel trick decides which give us the best result. \n",
    "\n",
    "\n",
    "- Fine-tune the model. Use Gridsearch with at least one important parameter tuned and with at least 3 settings. Use the entire training set for this.\n",
    "- What is the model's final F<sub>1</sub> score?\n",
    "\n",
    "~ 0.92"
   ]
  },
  {
   "cell_type": "code",
   "execution_count": 16,
   "metadata": {
    "collapsed": false
   },
   "outputs": [
    {
     "data": {
      "text/html": [
       "<table><tr><th rowspan='2'>Naive Bayes</th><th colspan='3'>Training set size</th></tr><tr><td> 100 </td><td> 200 </td><td> 300 </td></tr></table<tr><td>Training time (secs)</td><td>0.001</td><td>0.001</td><td>0.002</td></tr><tr><td>Prediction time (secs)</td><td>0.0002</td><td>0.0004</td><td>0.0005</td></tr><tr><td>F1 score for training set</td><td>0.806451612903</td><td>0.76</td><td>0.793893129771</td></tr><tr><td>F1 score for test set</td><td>0.624</td><td>0.634920634921</td><td>0.65625</td></tr></table>"
      ],
      "text/plain": [
       "[['Training time (secs)', 0.001, 0.001, 0.002],\n",
       " ['Prediction time (secs)', 0.0002, 0.0004, 0.0005],\n",
       " ['F1 score for training set',\n",
       "  0.80645161290322587,\n",
       "  0.76000000000000001,\n",
       "  0.79389312977099236],\n",
       " ['F1 score for test set', 0.624, 0.634920634920635, 0.65625]]"
      ]
     },
     "execution_count": 16,
     "metadata": {},
     "output_type": "execute_result"
    }
   ],
   "source": [
    "nbModel"
   ]
  },
  {
   "cell_type": "code",
   "execution_count": 17,
   "metadata": {
    "collapsed": false
   },
   "outputs": [
    {
     "data": {
      "text/html": [
       "<table><tr><th rowspan='2'>KNN</th><th colspan='3'>Training set size</th></tr><tr><td> 100 </td><td> 200 </td><td> 300 </td></tr></table<tr><td>Training time (secs)</td><td>0.0</td><td>0.001</td><td>0.002</td></tr><tr><td>Prediction time (secs)</td><td>0.001</td><td>0.0038</td><td>0.0075</td></tr><tr><td>F1 score for training set</td><td>0.861538461538</td><td>0.796875</td><td>0.854460093897</td></tr><tr><td>F1 score for test set</td><td>0.746478873239</td><td>0.802816901408</td><td>0.8</td></tr></table>"
      ],
      "text/plain": [
       "[['Training time (secs)', 0.0, 0.001, 0.002],\n",
       " ['Prediction time (secs)', 0.001, 0.0038, 0.0075],\n",
       " ['F1 score for training set',\n",
       "  0.86153846153846159,\n",
       "  0.796875,\n",
       "  0.85446009389671351],\n",
       " ['F1 score for test set',\n",
       "  0.74647887323943674,\n",
       "  0.80281690140845063,\n",
       "  0.80000000000000004]]"
      ]
     },
     "execution_count": 17,
     "metadata": {},
     "output_type": "execute_result"
    }
   ],
   "source": [
    "knnModel"
   ]
  },
  {
   "cell_type": "code",
   "execution_count": 18,
   "metadata": {
    "collapsed": false
   },
   "outputs": [
    {
     "data": {
      "text/html": [
       "<table><tr><th rowspan='2'>SVM</th><th colspan='3'>Training set size</th></tr><tr><td> 100 </td><td> 200 </td><td> 300 </td></tr></table<tr><td>Training time (secs)</td><td>0.001</td><td>0.003</td><td>0.006</td></tr><tr><td>Prediction time (secs)</td><td>0.0007</td><td>0.0025</td><td>0.0041</td></tr><tr><td>F1 score for training set</td><td>0.869565217391</td><td>0.867647058824</td><td>0.872727272727</td></tr><tr><td>F1 score for test set</td><td>0.8</td><td>0.811188811189</td><td>0.813333333333</td></tr></table>"
      ],
      "text/plain": [
       "[['Training time (secs)', 0.001, 0.003, 0.006],\n",
       " ['Prediction time (secs)', 0.0007, 0.0025, 0.0041],\n",
       " ['F1 score for training set',\n",
       "  0.86956521739130443,\n",
       "  0.86764705882352933,\n",
       "  0.87272727272727268],\n",
       " ['F1 score for test set',\n",
       "  0.80000000000000004,\n",
       "  0.81118881118881125,\n",
       "  0.81333333333333346]]"
      ]
     },
     "execution_count": 18,
     "metadata": {},
     "output_type": "execute_result"
    }
   ],
   "source": [
    "svmModel"
   ]
  },
  {
   "cell_type": "code",
   "execution_count": 19,
   "metadata": {
    "collapsed": false
   },
   "outputs": [
    {
     "name": "stdout",
     "output_type": "stream",
     "text": [
      "------------------------------------------\n",
      "Training set size: 300\n",
      "Training GridSearchCV...\n",
      "Done!\n",
      "Training time (secs): 0.235\n",
      "Predicting labels using GridSearchCV...\n",
      "Done!\n",
      "Prediction time (secs): 0.0054\n",
      "F1 score for training set(300): 0.926014319809\n",
      "Predicting labels using GridSearchCV...\n",
      "Done!\n",
      "Prediction time (secs): 0.0016\n",
      "F1 score for test set(95): 0.823529411765\n",
      "------------------------------------------\n",
      "Training set size: 200\n",
      "Training GridSearchCV...\n",
      "Done!\n",
      "Training time (secs): 0.147\n",
      "Predicting labels using GridSearchCV...\n",
      "Done!\n",
      "Prediction time (secs): 0.0021\n",
      "F1 score for training set(200): 0.830324909747\n",
      "Predicting labels using GridSearchCV...\n",
      "Done!\n",
      "Prediction time (secs): 0.0009\n",
      "F1 score for test set(95): 0.818791946309\n",
      "------------------------------------------\n",
      "Training set size: 100\n",
      "Training GridSearchCV...\n",
      "Done!\n",
      "Training time (secs): 0.104\n",
      "Predicting labels using GridSearchCV...\n",
      "Done!\n",
      "Prediction time (secs): 0.0008\n",
      "F1 score for training set(100): 0.923076923077\n",
      "Predicting labels using GridSearchCV...\n",
      "Done!\n",
      "Prediction time (secs): 0.0007\n",
      "F1 score for test set(95): 0.825806451613\n",
      "{'kernel': 'rbf', 'C': 1, 'gamma': 0.05}\n"
     ]
    },
    {
     "data": {
      "text/html": [
       "<table><tr><th rowspan='2'>TunedSVM</th><th colspan='3'>Training set size</th></tr><tr><td> 100 </td><td> 200 </td><td> 300 </td></tr></table<tr><td>Training time (secs)</td><td>0.104</td><td>0.147</td><td>0.235</td></tr><tr><td>Prediction time (secs)</td><td>0.0008</td><td>0.0021</td><td>0.0054</td></tr><tr><td>F1 score for training set</td><td>0.923076923077</td><td>0.830324909747</td><td>0.926014319809</td></tr><tr><td>F1 score for test set</td><td>0.825806451613</td><td>0.818791946309</td><td>0.823529411765</td></tr></table>"
      ],
      "text/plain": [
       "[['Training time (secs)', 0.104, 0.147, 0.235],\n",
       " ['Prediction time (secs)', 0.0008, 0.0021, 0.0054],\n",
       " ['F1 score for training set',\n",
       "  0.92307692307692302,\n",
       "  0.83032490974729234,\n",
       "  0.92601431980906923],\n",
       " ['F1 score for test set',\n",
       "  0.82580645161290311,\n",
       "  0.81879194630872476,\n",
       "  0.82352941176470595]]"
      ]
     },
     "execution_count": 19,
     "metadata": {},
     "output_type": "execute_result"
    }
   ],
   "source": [
    "# TODO: Fine-tune your model and report the best F1 score\n",
    "from sklearn import grid_search\n",
    "from sklearn.metrics import make_scorer\n",
    "tuned_parameters = {'kernel':['rbf'], 'C':[1], 'gamma':[0.01,0.02,0.03,0.04,0.05]}\n",
    "svc_tune = grid_search.GridSearchCV(svm.SVC(), tuned_parameters, cv=5, refit=True, scoring = make_scorer(f1_score, pos_label='yes'))\n",
    "\n",
    "tunedsample300 = train_predict(svc_tune, X_train, y_train, X_test, y_test)\n",
    "# Note: Keep the test set constant\n",
    "tunedsample200 = train_predict(svc_tune, X_train_200, y_train_200, X_test, y_test)\n",
    "tunedsample100 = train_predict(svc_tune, X_train_100, y_train_100, X_test, y_test)\n",
    "print svc_tune.best_params_\n",
    "svmModel = transferIntoTable(\"TunedSVM\",tunedsample100, tunedsample200, tunedsample300)\n",
    "svmModel"
   ]
  },
  {
   "cell_type": "code",
   "execution_count": null,
   "metadata": {
    "collapsed": true
   },
   "outputs": [],
   "source": []
  }
 ],
 "metadata": {
  "kernelspec": {
   "display_name": "Python 2",
   "language": "python",
   "name": "python2"
  },
  "language_info": {
   "codemirror_mode": {
    "name": "ipython",
    "version": 2
   },
   "file_extension": ".py",
   "mimetype": "text/x-python",
   "name": "python",
   "nbconvert_exporter": "python",
   "pygments_lexer": "ipython2",
   "version": "2.7.11"
  }
 },
 "nbformat": 4,
 "nbformat_minor": 0
}
